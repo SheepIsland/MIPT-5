{
 "cells": [
  {
   "cell_type": "markdown",
   "metadata": {},
   "source": [
    "# 3 NumPy"
   ]
  },
  {
   "cell_type": "markdown",
   "metadata": {},
   "source": [
    "***\n",
    "1. Создайте numpy.ndarray размерностью 3x4x2 и продемонстрируйте разные способы обращения по индексам из документации NumPy.\n",
    "***"
   ]
  },
  {
   "cell_type": "code",
   "execution_count": 69,
   "metadata": {},
   "outputs": [
    {
     "name": "stdout",
     "output_type": "stream",
     "text": [
      "[[[1. 0.]\n",
      "  [0. 0.]\n",
      "  [0. 0.]\n",
      "  [2. 0.]]\n",
      "\n",
      " [[0. 0.]\n",
      "  [0. 0.]\n",
      "  [0. 0.]\n",
      "  [0. 0.]]\n",
      "\n",
      " [[0. 0.]\n",
      "  [0. 0.]\n",
      "  [0. 0.]\n",
      "  [0. 0.]]]\n",
      "1.0\n",
      "2.0\n"
     ]
    }
   ],
   "source": [
    "import numpy as np\n",
    "\n",
    "arr = np.zeros((3, 4, 2))\n",
    "arr.put((0, 0, 0), 1)\n",
    "arr.put(6, 2)\n",
    "print(arr)\n",
    "print(arr.item(0))\n",
    "print(arr.item(6))"
   ]
  },
  {
   "cell_type": "markdown",
   "metadata": {},
   "source": [
    " ***\n",
    "2. Попробуйте сравнить по производительности numpy.array и list, выполняя какую-то стандартную операцию с каждым из типов много раз. \n",
    "***"
   ]
  },
  {
   "cell_type": "code",
   "execution_count": 91,
   "metadata": {},
   "outputs": [
    {
     "name": "stdout",
     "output_type": "stream",
     "text": [
      "0.4042980670928955 seconds\n",
      "4462731\n",
      "4.421251058578491 seconds\n",
      "4049955000\n"
     ]
    }
   ],
   "source": [
    "import numpy as np\n",
    "import time\n",
    "\n",
    "array = np.random.randint(100, size=(300, 300))\n",
    "list = []\n",
    "for x in range(1, 90000, 1):\n",
    "    list.append(x)\n",
    "    \n",
    "#np.array\n",
    "start_time = time.time()\n",
    "for x in range(1, 10000, 1):\n",
    "    tmp = np.sum(array)\n",
    "print(\"%s seconds\" % (time.time() - start_time))\n",
    "print(tmp)\n",
    "#list\n",
    "start_time = time.time()\n",
    "for x in range(1, 10000, 1):\n",
    "    tmp = sum(list)\n",
    "print(\"%s seconds\" % (time.time() - start_time))\n",
    "print(tmp)"
   ]
  },
  {
   "cell_type": "markdown",
   "metadata": {},
   "source": [
    "***\n",
    "3. Изучите numpy.linspace(), напишите свою реализацию аналогичной функции с помощью list comprehension, дающий тот же результат, только в виде list, а не numpy.ndarray. Сравните по производительности два варианта на достаточно больших массивах.\n",
    "***"
   ]
  },
  {
   "cell_type": "code",
   "execution_count": 106,
   "metadata": {},
   "outputs": [
    {
     "name": "stdout",
     "output_type": "stream",
     "text": [
      "0.0017442703247070312 seconds\n",
      "9.512901306152344e-05 seconds\n"
     ]
    }
   ],
   "source": [
    "#np.array\n",
    "start_time = time.time()\n",
    "array = np.linspace(1, 100000, num=1000000)\n",
    "print(\"%s seconds\" % (time.time() - start_time))\n",
    "\n",
    "def linspace(start, end,  num):\n",
    "    list = []\n",
    "    for x in range(start, end, num):\n",
    "        list.append(x)\n",
    "    return list\n",
    "\n",
    "#list\n",
    "start_time = time.time()\n",
    "list = linspace(1, 100000, 1000000)\n",
    "print(\"%s seconds\" % (time.time() - start_time))"
   ]
  }
 ],
 "metadata": {
  "kernelspec": {
   "display_name": "Python 3",
   "language": "python",
   "name": "python3"
  },
  "language_info": {
   "codemirror_mode": {
    "name": "ipython",
    "version": 3
   },
   "file_extension": ".py",
   "mimetype": "text/x-python",
   "name": "python",
   "nbconvert_exporter": "python",
   "pygments_lexer": "ipython3",
   "version": "3.6.5"
  }
 },
 "nbformat": 4,
 "nbformat_minor": 2
}
