{
 "cells": [
  {
   "cell_type": "markdown",
   "metadata": {},
   "source": [
    "# 6 Pandas + Scikit-learn"
   ]
  },
  {
   "cell_type": "markdown",
   "metadata": {},
   "source": [
    "***\n",
    "1. Считайте выборку из примера про детектирование кожи на фотографии с семинара с помощью библиотеки pandas. Продемонстрируйте индексацию по строкам и столбцам, labeled-based  и index-based. Добавьте в DataFrame столбцы, соответствующие парным произведениям признаков и модулям попарных разностей. Запустите на исходных признаках и модифицированных KNeighbours Classifier, LogosticRegression и RandomForest из skylearn и сравните качесвто работы до и после преобрахования признаков.\n",
    "***"
   ]
  },
  {
   "cell_type": "code",
   "execution_count": 1,
   "metadata": {},
   "outputs": [],
   "source": [
    "import pandas as pd\n",
    "from sklearn.linear_model import LogisticRegression\n",
    "from sklearn.ensemble import RandomForestClassifier\n",
    "from sklearn.model_selection import train_test_split\n",
    "from sklearn.neighbors import KNeighborsClassifier\n",
    "from itertools import combinations\n",
    "from sklearn.metrics import f1_score"
   ]
  },
  {
   "cell_type": "code",
   "execution_count": 79,
   "metadata": {},
   "outputs": [
    {
     "data": {
      "text/html": [
       "<div>\n",
       "<style scoped>\n",
       "    .dataframe tbody tr th:only-of-type {\n",
       "        vertical-align: middle;\n",
       "    }\n",
       "\n",
       "    .dataframe tbody tr th {\n",
       "        vertical-align: top;\n",
       "    }\n",
       "\n",
       "    .dataframe thead th {\n",
       "        text-align: right;\n",
       "    }\n",
       "</style>\n",
       "<table border=\"1\" class=\"dataframe\">\n",
       "  <thead>\n",
       "    <tr style=\"text-align: right;\">\n",
       "      <th></th>\n",
       "      <th>1</th>\n",
       "      <th>2</th>\n",
       "      <th>3</th>\n",
       "      <th>skin</th>\n",
       "    </tr>\n",
       "  </thead>\n",
       "  <tbody>\n",
       "    <tr>\n",
       "      <th>0</th>\n",
       "      <td>74</td>\n",
       "      <td>85</td>\n",
       "      <td>123</td>\n",
       "      <td>1</td>\n",
       "    </tr>\n",
       "    <tr>\n",
       "      <th>1</th>\n",
       "      <td>73</td>\n",
       "      <td>84</td>\n",
       "      <td>122</td>\n",
       "      <td>1</td>\n",
       "    </tr>\n",
       "    <tr>\n",
       "      <th>2</th>\n",
       "      <td>72</td>\n",
       "      <td>83</td>\n",
       "      <td>121</td>\n",
       "      <td>1</td>\n",
       "    </tr>\n",
       "    <tr>\n",
       "      <th>3</th>\n",
       "      <td>70</td>\n",
       "      <td>81</td>\n",
       "      <td>119</td>\n",
       "      <td>1</td>\n",
       "    </tr>\n",
       "    <tr>\n",
       "      <th>4</th>\n",
       "      <td>70</td>\n",
       "      <td>81</td>\n",
       "      <td>119</td>\n",
       "      <td>1</td>\n",
       "    </tr>\n",
       "  </tbody>\n",
       "</table>\n",
       "</div>"
      ],
      "text/plain": [
       "    1   2    3  skin\n",
       "0  74  85  123     1\n",
       "1  73  84  122     1\n",
       "2  72  83  121     1\n",
       "3  70  81  119     1\n",
       "4  70  81  119     1"
      ]
     },
     "execution_count": 79,
     "metadata": {},
     "output_type": "execute_result"
    }
   ],
   "source": [
    "df = pd.read_csv('Skin_NonSkin.txt', sep = '\\t', header = None)\n",
    "df.columns = ['1', '2', '3',  'skin']\n",
    "df.head()"
   ]
  },
  {
   "cell_type": "code",
   "execution_count": 80,
   "metadata": {},
   "outputs": [],
   "source": [
    "# обучающая и test выборка\n",
    "X_train, X_test, y_train, y_test = train_test_split(df.iloc[:,:-1], df['skin'], test_size=0.33, random_state=42)"
   ]
  },
  {
   "cell_type": "code",
   "execution_count": 81,
   "metadata": {},
   "outputs": [
    {
     "name": "stdout",
     "output_type": "stream",
     "text": [
      "KNeighbors: 0.9985325387080352\n",
      "LogisticRegression: 0.8081531954887219\n",
      "RandomForest: 0.9984120801749707\n"
     ]
    }
   ],
   "source": [
    "classificationModels = [KNeighborsClassifier(), LogisticRegression(), RandomForestClassifier()]\n",
    "names = ['KNeighbors', 'LogisticRegression', 'RandomForest']\n",
    "for model, name in zip(classificationModels, names):\n",
    "    model.fit(X_train, y_train)\n",
    "    predicted = model.predict(X_test)\n",
    "    print ('{0}: {1}'.format(name, f1_score(y_test, predicted)))"
   ]
  },
  {
   "cell_type": "code",
   "execution_count": 76,
   "metadata": {},
   "outputs": [
    {
     "data": {
      "text/html": [
       "<div>\n",
       "<style scoped>\n",
       "    .dataframe tbody tr th:only-of-type {\n",
       "        vertical-align: middle;\n",
       "    }\n",
       "\n",
       "    .dataframe tbody tr th {\n",
       "        vertical-align: top;\n",
       "    }\n",
       "\n",
       "    .dataframe thead th {\n",
       "        text-align: right;\n",
       "    }\n",
       "</style>\n",
       "<table border=\"1\" class=\"dataframe\">\n",
       "  <thead>\n",
       "    <tr style=\"text-align: right;\">\n",
       "      <th></th>\n",
       "      <th>1</th>\n",
       "      <th>2</th>\n",
       "      <th>3</th>\n",
       "      <th>1*2</th>\n",
       "      <th>abs(1-2)</th>\n",
       "      <th>2*3</th>\n",
       "      <th>abs(2-3)</th>\n",
       "      <th>1*3</th>\n",
       "      <th>abs(1-3)</th>\n",
       "      <th>skin</th>\n",
       "    </tr>\n",
       "  </thead>\n",
       "  <tbody>\n",
       "    <tr>\n",
       "      <th>0</th>\n",
       "      <td>74</td>\n",
       "      <td>85</td>\n",
       "      <td>123</td>\n",
       "      <td>6290</td>\n",
       "      <td>11</td>\n",
       "      <td>10455</td>\n",
       "      <td>38</td>\n",
       "      <td>9102</td>\n",
       "      <td>49</td>\n",
       "      <td>1</td>\n",
       "    </tr>\n",
       "    <tr>\n",
       "      <th>1</th>\n",
       "      <td>73</td>\n",
       "      <td>84</td>\n",
       "      <td>122</td>\n",
       "      <td>6132</td>\n",
       "      <td>11</td>\n",
       "      <td>10248</td>\n",
       "      <td>38</td>\n",
       "      <td>8906</td>\n",
       "      <td>49</td>\n",
       "      <td>1</td>\n",
       "    </tr>\n",
       "    <tr>\n",
       "      <th>2</th>\n",
       "      <td>72</td>\n",
       "      <td>83</td>\n",
       "      <td>121</td>\n",
       "      <td>5976</td>\n",
       "      <td>11</td>\n",
       "      <td>10043</td>\n",
       "      <td>38</td>\n",
       "      <td>8712</td>\n",
       "      <td>49</td>\n",
       "      <td>1</td>\n",
       "    </tr>\n",
       "    <tr>\n",
       "      <th>3</th>\n",
       "      <td>70</td>\n",
       "      <td>81</td>\n",
       "      <td>119</td>\n",
       "      <td>5670</td>\n",
       "      <td>11</td>\n",
       "      <td>9639</td>\n",
       "      <td>38</td>\n",
       "      <td>8330</td>\n",
       "      <td>49</td>\n",
       "      <td>1</td>\n",
       "    </tr>\n",
       "    <tr>\n",
       "      <th>4</th>\n",
       "      <td>70</td>\n",
       "      <td>81</td>\n",
       "      <td>119</td>\n",
       "      <td>5670</td>\n",
       "      <td>11</td>\n",
       "      <td>9639</td>\n",
       "      <td>38</td>\n",
       "      <td>8330</td>\n",
       "      <td>49</td>\n",
       "      <td>1</td>\n",
       "    </tr>\n",
       "  </tbody>\n",
       "</table>\n",
       "</div>"
      ],
      "text/plain": [
       "    1   2    3   1*2  abs(1-2)    2*3  abs(2-3)   1*3  abs(1-3)  skin\n",
       "0  74  85  123  6290        11  10455        38  9102        49     1\n",
       "1  73  84  122  6132        11  10248        38  8906        49     1\n",
       "2  72  83  121  5976        11  10043        38  8712        49     1\n",
       "3  70  81  119  5670        11   9639        38  8330        49     1\n",
       "4  70  81  119  5670        11   9639        38  8330        49     1"
      ]
     },
     "execution_count": 76,
     "metadata": {},
     "output_type": "execute_result"
    }
   ],
   "source": [
    "# модификация\n",
    "df[\"1*2\"] = df['1'] * df['2']\n",
    "df[\"abs(1-2)\"] = abs(df['1'] - df['2'])\n",
    "df[\"2*3\"] = df['2'] * df['3']\n",
    "df[\"abs(2-3)\"] = abs(df['2'] - df['3'])    \n",
    "df[\"1*3\"] = df['1'] * df['3']\n",
    "df[\"abs(1-3)\"] = abs(df['1'] - df['3'])\n",
    "\n",
    "x = df['skin']\n",
    "df.pop('skin')\n",
    "df['skin'] = x\n",
    "df.head()"
   ]
  },
  {
   "cell_type": "code",
   "execution_count": 77,
   "metadata": {},
   "outputs": [],
   "source": [
    "# обучающая и test выборка\n",
    "X_train, X_test, y_train, y_test = train_test_split(df.iloc[:,:-1], df['skin'], test_size=0.33, random_state=42)"
   ]
  },
  {
   "cell_type": "code",
   "execution_count": 78,
   "metadata": {},
   "outputs": [
    {
     "name": "stdout",
     "output_type": "stream",
     "text": [
      "KNeighbors: 0.9983232528893947\n",
      "LogisticRegression: 0.9782723589171411\n",
      "RandomForest: 0.9987412335910808\n"
     ]
    }
   ],
   "source": [
    "classificationModels = [KNeighborsClassifier(), LogisticRegression(), RandomForestClassifier()]\n",
    "names = ['KNeighbors', 'LogisticRegression', 'RandomForest']\n",
    "for model, name in zip(classificationModels, names):\n",
    "    model.fit(X_train, y_train)\n",
    "    predicted = model.predict(X_test)\n",
    "    print ('{0}: {1}'.format(name, f1_score(y_test, predicted)))"
   ]
  },
  {
   "cell_type": "code",
   "execution_count": null,
   "metadata": {},
   "outputs": [],
   "source": [
    "# после преобразоания признаков качество повысилось для логистичсекой регрессии"
   ]
  }
 ],
 "metadata": {
  "kernelspec": {
   "display_name": "Python 3",
   "language": "python",
   "name": "python3"
  },
  "language_info": {
   "codemirror_mode": {
    "name": "ipython",
    "version": 3
   },
   "file_extension": ".py",
   "mimetype": "text/x-python",
   "name": "python",
   "nbconvert_exporter": "python",
   "pygments_lexer": "ipython3",
   "version": "3.6.5"
  }
 },
 "nbformat": 4,
 "nbformat_minor": 2
}
