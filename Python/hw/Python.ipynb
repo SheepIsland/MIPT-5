{
 "cells": [
  {
   "cell_type": "markdown",
   "metadata": {},
   "source": [
    "# 1 Python"
   ]
  },
  {
   "cell_type": "markdown",
   "metadata": {},
   "source": [
    "***\n",
    "1. Чем отличаются типы list и tuple? Какой из них можно использовать в каестве ключа в dict и добавлять в set?  Почему? На какой структуре данных реализован dict в python? Чем отличается range от xrange в Python2.x? Что такое list comprehension? Как работают функции map и reduce в Python?\n",
    "***"
   ]
  },
  {
   "cell_type": "code",
   "execution_count": 33,
   "metadata": {},
   "outputs": [
    {
     "name": "stdout",
     "output_type": "stream",
     "text": [
      "Dict\n",
      "{(1, 2): 1}\n",
      "Set\n",
      "{0, 1, 64, (1, 2), 4, 36, 9, 16, 49, 81, 25}\n",
      "List comprehensions\n",
      "[1, 3, 5, 7, 9, 11, 13, 15, 17, 19, 21, 23]\n",
      "Map\n",
      "(1, 1)\n",
      "(2, 2)\n",
      "Reduce\n",
      "10\n"
     ]
    }
   ],
   "source": [
    "# tuple неизменяемые, представляют собой разнородные структуры данных (т.е. их записи имеют разные значения).\n",
    "# Имеют структуру.\n",
    "# list прелвставляют собой однородные последовательности. Имеют порядок.\n",
    "tuple = (1,2)\n",
    "list = [1,2]\n",
    "\n",
    "# dict\n",
    "# Так как list является изменяемым, он не может использоваться в качестве ключа в dict \n",
    "# (ключами dict могут быть значения только hashable типов) и его нельзя добавлять в set, \n",
    "# тогда как tuple можно использовать в качестве коюча в dict и он может быть добален в set.\n",
    "# dict является ассоциативным массивом, то есть хранит данные в виде пар (ключ, значение), \n",
    "# реализован в виде хэш-таблицы.\n",
    "# Для разрешения коллизий используется метод открытой адресации. \n",
    "print('Dict')\n",
    "d = {tuple: 1}\n",
    "print(d)\n",
    "\n",
    "# set\n",
    "print('Set')\n",
    "a = {i ** 2 for i in range(10)} \n",
    "a.add(tuple)\n",
    "print(a)\n",
    "\n",
    "# range создает всю последовательность натуральных чисел в памяти (list)\n",
    "# xrange возвращает объект xrange. Он не генерируют статический список во время выполнения, как range.\n",
    "# Он создает значения, как только они нужны методом yielding. \n",
    "\n",
    "# List comprehensions - генерация списков\n",
    "print('List comprehensions')\n",
    "res = []\n",
    "for x in range(1, 25, 2):\n",
    "     res.append(x)\n",
    "        \n",
    "print(res) \n",
    "\n",
    "# map\n",
    "# Принимает функцию и набор данных. Создаёт новую коллекцию, выполняет функцию на каждой позиции данных \n",
    "# и добавляет возвращаемое значение в новую коллекцию. Возвращает новую коллекцию.\n",
    "\n",
    "print('Map')\n",
    "for item in map(lambda x, y: (x, y), [1,2,3,4], [1,2]):\n",
    "     print(item)\n",
    "    \n",
    "# Reduce\n",
    "# Принимает функцию и набор пунктов. Возвращает значение, получаемое комбинированием всех пунктов.\n",
    "\n",
    "from functools import reduce\n",
    "\n",
    "print('Reduce')\n",
    "sum = reduce(lambda a, x: a + x, [0, 1, 2, 3, 4])\n",
    "print(sum)\n",
    "\n"
   ]
  },
  {
   "cell_type": "markdown",
   "metadata": {},
   "source": [
    "***\n",
    "2. Напишите рекурсивную функцию, возвращающую N-ное число Фибоначчи. Проверьте работу для небольших N. Выясните, для какого N начинаются проблемы с глубиной рекурсии. Дополнительное задание для любознательных: попробуйте выяснить, можно ли в Python изменить допустимую глубину рекурсии.\n",
    "***"
   ]
  },
  {
   "cell_type": "code",
   "execution_count": 51,
   "metadata": {},
   "outputs": [
    {
     "name": "stdout",
     "output_type": "stream",
     "text": [
      "55\n"
     ]
    }
   ],
   "source": [
    "# Фибоначчи (рекурсия)\n",
    "# Для N = 997 начинаются проблемы с глубиной рекурсии\n",
    "# В Python можно изменить глубину рекурсии с помощью sys.setrecursionlimit\n",
    "fib = lambda n: fib(n - 1) + fib(n - 2) if n > 2 else 1\n",
    "print(fib(10))"
   ]
  },
  {
   "cell_type": "markdown",
   "metadata": {},
   "source": [
    "***\n",
    "3. Попробуйте измерит время работы предыдущей фукнции при разных N.\n",
    "***"
   ]
  },
  {
   "cell_type": "code",
   "execution_count": 58,
   "metadata": {},
   "outputs": [
    {
     "name": "stdout",
     "output_type": "stream",
     "text": [
      "2.3388190269470215 seconds\n"
     ]
    }
   ],
   "source": [
    "import time\n",
    "\n",
    "start_time = time.time()\n",
    "fib(35)\n",
    "print(\"%s seconds\" % (time.time() - start_time))"
   ]
  },
  {
   "cell_type": "markdown",
   "metadata": {},
   "source": [
    "***\n",
    "4. Напишите функцию, возвращающую (через запятую) модуль и аргумент комплексного числа по заданной мнимой и действительной части. Возможно, вам потребуется импортировать какие-то тригонометрические функции из модуля math. Приведите пример работы. Каков тип возвращемого вашей функцией значения?\n",
    "5. Напишите docstrings к вашей последней функции. Изучите библиотеку doctest и попробуйте проверить, что написанные в docstrings примеры выполняются, без явного копирования кода оттуда(т.е. с помощью doctest).\n",
    "***"
   ]
  },
  {
   "cell_type": "code",
   "execution_count": 4,
   "metadata": {},
   "outputs": [
    {
     "name": "stdout",
     "output_type": "stream",
     "text": [
      "(20.024984394500787, 1.5208379310729538)\n",
      "<class 'tuple'>\n"
     ]
    }
   ],
   "source": [
    "import math \n",
    "\n",
    "def fun(a, i): \n",
    "    \"\"\"This is a function for calculating module and arguments of coplex number.\n",
    "\n",
    "    Args:\n",
    "        a (int): The real part of complex number\n",
    "        i (int): The imaginary part of complex number\n",
    "\n",
    "    Returns:\n",
    "        tuple: a tuple of numbers representing the module and arguments of input complex number\n",
    "\n",
    "    Examples:\n",
    "        >>> print(fun(1,20))\n",
    "        (20.024984394500787, 1.5208379310729538)\n",
    "\n",
    "    \"\"\"\n",
    "    \n",
    "    abs = math.sqrt(pow(a,2) + pow(i,2))\n",
    "    arg = math.atan2(i,a)\n",
    "    return abs, arg\n",
    "\n",
    "print(fun(1,20))\n",
    "print(type(fun(1,2)))"
   ]
  },
  {
   "cell_type": "code",
   "execution_count": 5,
   "metadata": {},
   "outputs": [
    {
     "data": {
      "text/plain": [
       "TestResults(failed=0, attempted=1)"
      ]
     },
     "execution_count": 5,
     "metadata": {},
     "output_type": "execute_result"
    }
   ],
   "source": [
    "import doctest\n",
    "doctest.testmod()"
   ]
  },
  {
   "cell_type": "markdown",
   "metadata": {},
   "source": [
    "***\n",
    "6. Реализуйте класс комплексных чисел с самым базовым функционалом. Цель не продемонстрировать умение спроектировать класс из каждого второго домашнего задания по любому языку программирования, а посмотреть на особенности реализации классов на питоне.\n",
    "\n",
    "7. Напишите setter и getter для полей класса комплексного числа.\n",
    "\n",
    "8. Выясните, чем отличается задание поля self.x через \"=\" от обьявления метода с декоратором property.\n",
    "***"
   ]
  },
  {
   "cell_type": "code",
   "execution_count": 13,
   "metadata": {},
   "outputs": [],
   "source": [
    "# Обьявление метода с декоратором @property:\n",
    "# Используя property можно сделать инкапсуляцию полей класса при помощи getter и setter. \n",
    "\n",
    "import math \n",
    "\n",
    "class Complex(object):\n",
    "    \n",
    "    def __init__(self, real=0, imaginary=0):\n",
    "        self._real = real\n",
    "        self._imaginary = imaginary\n",
    " \n",
    "    @property\n",
    "    def real(self):\n",
    "        return self._real\n",
    "    \n",
    "    @real.setter\n",
    "    def real(self, real):\n",
    "        self._real = real\n",
    "        \n",
    "    @property  \n",
    "    def imaginary(self):\n",
    "        return self._imaginary\n",
    "\n",
    "    @imaginary.setter\n",
    "    def imaginary(self, imaginary):\n",
    "        self._imaginary = imaginary\n",
    "        \n",
    "    def module(self):\n",
    "        return math.sqrt(pow(self.real,2) + pow(self.imaginary,2))\n",
    "    \n",
    "    def arg(self):\n",
    "        return math.atan2(self.imaginary,self.real)"
   ]
  },
  {
   "cell_type": "code",
   "execution_count": 17,
   "metadata": {},
   "outputs": [
    {
     "name": "stdout",
     "output_type": "stream",
     "text": [
      "1 2\n",
      "1 2\n",
      "1.1071487177940904\n"
     ]
    }
   ],
   "source": [
    "z = Complex\n",
    "# Use setter\n",
    "z.real = 1 \n",
    "z.imaginary = 2 \n",
    "print(z.real, z.imaginary)\n",
    "# Use getter\n",
    "a = z.real \n",
    "b = z.imaginary \n",
    "print(a, b)\n",
    "\n",
    "arg = Complex(1,20).arg()\n",
    "print(arg)"
   ]
  },
  {
   "cell_type": "markdown",
   "metadata": {},
   "source": [
    "***\n",
    "9. Изучите примеры работы с декораторами из официальной документации. Фактически, декоратор - эта функция, которая принимает на вход другую функцию и возвращает ее в модифицированном виде. Синтакcически предусмотрена возможность использовать декоратор, написав перед обьявлением функции имя_декаратора. Попробуйте найти реализацию (или седелать сами) кэширующего декоратора и декоратора, вычисляющего время работы функции. Попробуйте применить эти декораторы в разной последовательности к функции, вычисляющей числа Фибоначчи, сравнить и обьяснить результаты. Обьясните также, как работают использованные вами декораторы.\n",
    "***"
   ]
  },
  {
   "cell_type": "code",
   "execution_count": 180,
   "metadata": {},
   "outputs": [
    {
     "name": "stdout",
     "output_type": "stream",
     "text": [
      "5\n"
     ]
    },
    {
     "data": {
      "text/plain": [
       "CacheInfo(hits=2, misses=5, maxsize=30, currsize=5)"
      ]
     },
     "execution_count": 180,
     "metadata": {},
     "output_type": "execute_result"
    }
   ],
   "source": [
    "# кэширующий декоратор \n",
    "# При помощи данного декоратора можно мемоизировать результат функции\n",
    "# Для кеширования результатов используется словарь\n",
    "from functools import lru_cache\n",
    "\n",
    "@lru_cache(maxsize=30)\n",
    "def fib(n):\n",
    "    return fib(n - 1) + fib(n - 2) if n > 2 else 1\n",
    "\n",
    "print(fib(5))\n",
    "fib.cache_info()"
   ]
  },
  {
   "cell_type": "code",
   "execution_count": 248,
   "metadata": {},
   "outputs": [
    {
     "name": "stdout",
     "output_type": "stream",
     "text": [
      "2.8133392333984375e-05\n"
     ]
    }
   ],
   "source": [
    "# декоратор, вычисляющий время работы функции\n",
    "import time\n",
    "\n",
    "def timer(f):\n",
    "    def tmp(*args, **kwargs):\n",
    "        t = time.time()\n",
    "        res = f(*args, **kwargs)\n",
    "        return time.time()-t\n",
    "    return tmp\n",
    "\n",
    "@lru_cache(maxsize=30)\n",
    "@timer\n",
    "def fib(n):\n",
    "    return fib(n - 1) + fib(n - 2) if n > 2 else 1\n",
    "\n",
    "print(fib(20))\n",
    "\n",
    "# декараторы исполняются в порядке следования\n",
    "# несколько декораторов, следующих подряд, не декорируют друг друга. \n",
    "# Они изменяют функцию, и передают ее в качестве аргумента друг другу в порядке следования. \n",
    "# -> если первым будет идти кэщирующий декоратор, то время выоплнения будет меньше\n"
   ]
  }
 ],
 "metadata": {
  "kernelspec": {
   "display_name": "Python 3",
   "language": "python",
   "name": "python3"
  },
  "language_info": {
   "codemirror_mode": {
    "name": "ipython",
    "version": 3
   },
   "file_extension": ".py",
   "mimetype": "text/x-python",
   "name": "python",
   "nbconvert_exporter": "python",
   "pygments_lexer": "ipython3",
   "version": "3.6.5"
  }
 },
 "nbformat": 4,
 "nbformat_minor": 2
}
